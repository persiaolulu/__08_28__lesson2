{
 "cells": [
  {
   "cell_type": "code",
   "execution_count": null,
   "metadata": {},
   "outputs": [],
   "source": [
    "for index in range(5):\n",
    "    print(index)"
   ]
  },
  {
   "cell_type": "code",
   "execution_count": null,
   "metadata": {},
   "outputs": [],
   "source": [
    "for index in range(1,6,1):\n",
    "    print(index)"
   ]
  },
  {
   "cell_type": "code",
   "execution_count": null,
   "metadata": {},
   "outputs": [],
   "source": [
    "for index in range(1,11,2):\n",
    "    print(index)"
   ]
  },
  {
   "cell_type": "code",
   "execution_count": null,
   "metadata": {},
   "outputs": [],
   "source": [
    "end = int(input(\"請輸入結束的數值:\"))\n",
    "sum = 0\n",
    "for i in range(1,end+1):\n",
    "    sum += i\n",
    "print(f\"1~{end}的加總是:{sum}\")"
   ]
  },
  {
   "cell_type": "code",
   "execution_count": null,
   "metadata": {},
   "outputs": [],
   "source": [
    "#1~100的偶數加總\n",
    "#1~100的奇數加總\n",
    "\n",
    "evenTotal = 0\n",
    "oddTotal = 0\n",
    "\n",
    "for i in range(1,101):\n",
    "    if i % 2 == 0:\n",
    "        evenTotal += i\n",
    "    else:\n",
    "        oddTotal += i\n",
    "\n",
    "print(f\"1~100偶數加總為:{evenTotal}\")\n",
    "print(f\"1~100奇數加總為:{oddTotal}\")"
   ]
  },
  {
   "cell_type": "code",
   "execution_count": null,
   "metadata": {},
   "outputs": [],
   "source": [
    "#print(*objects , sep=\"\" , end=\"\\n\" , file=none , flush=False)\n",
    "#沒有限定數的是引數值  每個引數值要有空格  最後加入換行(特別符號)\n",
    "for i in range(1,10):\n",
    "    print(f\"i={i}\")\n",
    "    for j in range(1,10):\n",
    "        print(f'j={j}',end = \" \")\n",
    "    print('\\n===========')"
   ]
  },
  {
   "cell_type": "code",
   "execution_count": null,
   "metadata": {},
   "outputs": [],
   "source": [
    "#99乘法表\n",
    "for i in range(1,10):\n",
    "    \n",
    "    for j in range(1,10):\n",
    "        print(f'{i}*{j}={i*j}',end = \" \")\n",
    "    print('\\n')"
   ]
  },
  {
   "cell_type": "code",
   "execution_count": null,
   "metadata": {},
   "outputs": [],
   "source": [
    "#99乘法表\n",
    "#加上格式化 :< 置左 :> 置右  :^ 置中 後面可加格數\n",
    "for i in range(1,10):\n",
    "    \n",
    "    for j in range(1,10):\n",
    "        print(f'{i:^3}*{j:^3}={i*j:^3}',end = \"\")\n",
    "    print('\\n')"
   ]
  },
  {
   "cell_type": "code",
   "execution_count": null,
   "metadata": {},
   "outputs": [],
   "source": [
    "#求所有因數\n",
    "\n",
    "num = int(input(\"請輸入整數,求所有因數:\"))\n",
    "print(f\"{num}的因數為:\")\n",
    "for i in range(1,num+1):\n",
    "    if num % i == 0:\n",
    "        print(f'{i:<3}',end='')\n"
   ]
  },
  {
   "cell_type": "code",
   "execution_count": null,
   "metadata": {},
   "outputs": [],
   "source": [
    "# min 回傳 iterable 中最小的元素，或者回傳兩個及以上引數中最小的。\n",
    "print(\"請輸入2數,求2數較小值\")\n",
    "n = int(input(\"請輸入第1個數:\"))\n",
    "m = int(input(\"請輸入第2個數:\"))\n",
    "small = min(n,m)\n",
    "print(small)"
   ]
  },
  {
   "cell_type": "code",
   "execution_count": 20,
   "metadata": {},
   "outputs": [
    {
     "name": "stdout",
     "output_type": "stream",
     "text": [
      "請輸入2數,求2數公因數\n",
      "100,50的公因數是:\n",
      "1  2  5  10 25 50 "
     ]
    }
   ],
   "source": [
    "print(\"請輸入2數,求2數公因數\")\n",
    "n = int(input(\"請輸入第1個數:\"))\n",
    "m = int(input(\"請輸入第2個數:\"))\n",
    "small = m + n\n",
    "print(f'{n},{m}的公因數是:')\n",
    "for i in range(1,small+1):\n",
    "    if n % i == 0 and m % i == 0:\n",
    "        print(f'{i:<3}',end='' )"
   ]
  }
 ],
 "metadata": {
  "kernelspec": {
   "display_name": "Python 3",
   "language": "python",
   "name": "python3"
  },
  "language_info": {
   "codemirror_mode": {
    "name": "ipython",
    "version": 3
   },
   "file_extension": ".py",
   "mimetype": "text/x-python",
   "name": "python",
   "nbconvert_exporter": "python",
   "pygments_lexer": "ipython3",
   "version": "3.10.12"
  },
  "orig_nbformat": 4
 },
 "nbformat": 4,
 "nbformat_minor": 2
}
