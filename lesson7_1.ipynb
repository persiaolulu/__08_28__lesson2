{
 "cells": [
  {
   "cell_type": "code",
   "execution_count": null,
   "metadata": {},
   "outputs": [],
   "source": [
    "def menu(wine, entree, dessert):\n",
    "    print(f\"酒:{wine}\")\n",
    "    print(f\"主餐:{entree}\")\n",
    "    print(f\"甜點:{dessert}\")\n",
    "\n",
    "#引數值的呼叫\n",
    "menu(\"白酒\",\"牛排\",\"蛋糕\")"
   ]
  },
  {
   "cell_type": "code",
   "execution_count": null,
   "metadata": {},
   "outputs": [],
   "source": [
    "#引數名稱的呼叫\n",
    "menu(wine=\"白酒\",entree=\"牛排\",dessert='蛋糕')"
   ]
  },
  {
   "cell_type": "code",
   "execution_count": null,
   "metadata": {},
   "outputs": [],
   "source": [
    "#引數名稱的呼叫,可以不依順序\n",
    "menu(entree=\"牛排\",dessert='蛋糕',wine=\"白酒\")"
   ]
  },
  {
   "cell_type": "code",
   "execution_count": null,
   "metadata": {},
   "outputs": [],
   "source": [
    "#混和呼叫\n",
    "#前面一定要用引數值的呼叫\n",
    "#後面使用引數名稱的呼叫\n",
    "#使用引數名稱後,面全部都要使用引數名稱呼叫\n",
    "\n",
    "menu(\"白酒\", dessert='蛋糕',entree=\"牛排\")"
   ]
  },
  {
   "cell_type": "code",
   "execution_count": null,
   "metadata": {},
   "outputs": [],
   "source": [
    "#定義function時,參數有預設值\n",
    "#有預設值的參數必須放在後面\n",
    "#有預設值的參數,可以減少引數值的數量\n",
    "\n",
    "def menu(wine, entree=\"雞排\", dessert=\"奶昔\"):\n",
    "    print(f\"酒:{wine}\")\n",
    "    print(f\"主餐:{entree}\")\n",
    "    print(f\"甜點:{dessert}\")\n",
    "    \n",
    "#最少需要1個引數\n",
    "menu(\"白酒\")"
   ]
  },
  {
   "cell_type": "code",
   "execution_count": null,
   "metadata": {},
   "outputs": [],
   "source": [
    "#主餐改成牛排,甜點依舊\n",
    "menu(\"白酒\",entree=\"牛排\")"
   ]
  },
  {
   "cell_type": "code",
   "execution_count": null,
   "metadata": {},
   "outputs": [],
   "source": [
    "#甜點換蛋糕,主餐依舊\n",
    "menu(\"白酒\",dessert=\"蛋糕\")"
   ]
  },
  {
   "cell_type": "code",
   "execution_count": 18,
   "metadata": {},
   "outputs": [],
   "source": [
    "#(*args),呼叫時,使用引數值的呼叫,沒有限定數量,args要叫啥都沒關係,重要的是*(星號)\n",
    "\n",
    "def print_args(*args):\n",
    "    print(args)"
   ]
  },
  {
   "cell_type": "code",
   "execution_count": null,
   "metadata": {},
   "outputs": [],
   "source": [
    "print_args(1,2,'a','b',3.0,4.0,True,False)"
   ]
  },
  {
   "cell_type": "code",
   "execution_count": 20,
   "metadata": {},
   "outputs": [
    {
     "name": "stdout",
     "output_type": "stream",
     "text": [
      "{'taipei': '台北', 'japan': '日本'}\n"
     ]
    }
   ],
   "source": [
    "#(**kwagrs),呼叫時,使用引數名稱的呼叫,沒有限定數量\n",
    "\n",
    "def print_kwargs(**kwargs):\n",
    "    print(kwargs)\n",
    "\n",
    "print_kwargs(taipei='台北',japan='日本')"
   ]
  }
 ],
 "metadata": {
  "kernelspec": {
   "display_name": "Python 3",
   "language": "python",
   "name": "python3"
  },
  "language_info": {
   "codemirror_mode": {
    "name": "ipython",
    "version": 3
   },
   "file_extension": ".py",
   "mimetype": "text/x-python",
   "name": "python",
   "nbconvert_exporter": "python",
   "pygments_lexer": "ipython3",
   "version": "3.10.12"
  },
  "orig_nbformat": 4
 },
 "nbformat": 4,
 "nbformat_minor": 2
}
