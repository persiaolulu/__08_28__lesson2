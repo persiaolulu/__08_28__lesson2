{
 "cells": [
  {
   "cell_type": "code",
   "execution_count": 1,
   "metadata": {},
   "outputs": [
    {
     "data": {
      "text/plain": [
       "True"
      ]
     },
     "metadata": {},
     "output_type": "display_data"
    },
    {
     "data": {
      "text/plain": [
       "False"
      ]
     },
     "execution_count": 1,
     "metadata": {},
     "output_type": "execute_result"
    }
   ],
   "source": [
    "#比較運算子\n",
    "\n",
    "x=7\n",
    "display(x==7)\n",
    "\n",
    "5>x"
   ]
  },
  {
   "cell_type": "code",
   "execution_count": null,
   "metadata": {},
   "outputs": [],
   "source": [
    "scores = int(input(\"請輸入分數:\"))\n",
    "if scores <60:\n",
    "    print(\"不及格\")\n",
    "else:\n",
    "    print(\"及格\")"
   ]
  },
  {
   "cell_type": "code",
   "execution_count": null,
   "metadata": {},
   "outputs": [],
   "source": [
    "#學生總分為300分\n",
    "#有些學生可以加分5%\n",
    "#如果加分超過300，就以300為準\n",
    "\n",
    "try:\n",
    "    scores = int(input(\"請輸入學生分數(最高300分):\"))\n",
    "except:\n",
    "    print(\"輸入錯誤\")\n",
    "else:\n",
    "    is_add = input(\"學生是否符合加分條件?(y,n)\")\n",
    "    if(is_add == \"y\"): #單向選擇\n",
    "        scores *= 1.05\n",
    "        if scores > 300: #巢狀判斷\n",
    "            scores = 300\n",
    "    print(int(scores))\n",
    "    print(round(scores,1))\n",
    "    print(f\"{scores:.0f}\")\n",
    "\n",
    "print(\"程式結束\")\n",
    "\n"
   ]
  },
  {
   "cell_type": "code",
   "execution_count": null,
   "metadata": {},
   "outputs": [],
   "source": [
    "#輸入值無法判斷 = CRASH 當機 raise ValueError \n",
    "try:\n",
    "    scores = int(input(\"請輸入學生分數(最高300分):\"))\n",
    "    print(f\"您的分數是:{scores}\")\n",
    "except:\n",
    "    print(\"輸入錯誤\")\n"
   ]
  },
  {
   "cell_type": "code",
   "execution_count": null,
   "metadata": {},
   "outputs": [],
   "source": [
    "#2個條件使用巢狀判斷\n",
    "scores = 59\n",
    "if scores >= 60:\n",
    "    if scores <=80:\n",
    "        print(\"60~80\")\n",
    "    else:\n",
    "        print(\"大於80\")\n",
    "else:\n",
    "    print(\"小於60\")\n"
   ]
  },
  {
   "cell_type": "code",
   "execution_count": null,
   "metadata": {},
   "outputs": [],
   "source": [
    "#2個條件使用邏輯運算子\n",
    "\n",
    "scores = 75\n",
    "if scores >= 60 and scores <=80:\n",
    "    print(\"60~80之間\")\n",
    "else:\n",
    "    print(\"小於60或大於80\")\n"
   ]
  },
  {
   "cell_type": "code",
   "execution_count": null,
   "metadata": {},
   "outputs": [],
   "source": [
    "#2個條件使用邏輯運算子\n",
    "\n",
    "scores = 89\n",
    "if scores >= 60 and scores <=80:\n",
    "    print(\"60~80\")\n",
    "else:\n",
    "    if scores < 60:\n",
    "        print(\"小於60\")\n",
    "    else:\n",
    "        print(\"大於80\")"
   ]
  },
  {
   "cell_type": "code",
   "execution_count": null,
   "metadata": {},
   "outputs": [],
   "source": [
    "#使用邏輯運算子 or \n",
    "scores = 75\n",
    "\n",
    "if scores <= 60 or scores >=80:\n",
    "    print(\"小於等於60或大於等於80\")\n",
    "else:\n",
    "    print(\"61~79之間\")"
   ]
  },
  {
   "cell_type": "code",
   "execution_count": null,
   "metadata": {},
   "outputs": [],
   "source": [
    "#多項選擇\n",
    "scores =  92\n",
    "\n",
    "if scores < 60:\n",
    "    print(\"小於60\")\n",
    "elif scores <=80:\n",
    "    print(\"60~80\")\n",
    "else:\n",
    "    print(\"81~100\")\n"
   ]
  },
  {
   "cell_type": "code",
   "execution_count": null,
   "metadata": {},
   "outputs": [],
   "source": [
    "#多項選擇\n",
    "scores = \n",
    "if scores >80:\n",
    "    print(\"81~100\")\n",
    "elif scores >= 60:\n",
    "    print(\"60~80\")\n",
    "else:\n",
    "    print(\"小於60\")"
   ]
  },
  {
   "cell_type": "code",
   "execution_count": null,
   "metadata": {},
   "outputs": [],
   "source": [
    "#90~100分 = 優\n",
    "#80-89 = 甲\n",
    "#70-79 = 乙\n",
    "#60-69 = 丙\n",
    "#0-59 = 丁\n",
    "\n",
    "scores = int(input(\"請輸入學生分數:\"))\n",
    "if scores >= 90:\n",
    "    print(\"優\")\n",
    "elif scores >=80:\n",
    "    print(\"甲\")\n",
    "elif scores >=70:\n",
    "    print(\"乙\")\n",
    "elif scores >=60:\n",
    "    print(\"丙\")\n",
    "else:\n",
    "    print(\"丁\")"
   ]
  },
  {
   "cell_type": "code",
   "execution_count": null,
   "metadata": {},
   "outputs": [],
   "source": [
    "#周年慶\n",
    "#輸入購買金額\n",
    "#100000打8折\n",
    "#50000打8.5折\n",
    "#30000打9折\n",
    "#10000打9.5折\n",
    "\n",
    "money = int(input(\"請輸入購買金額:\"))\n",
    "if money < 10000:\n",
    "    paymoney = money\n",
    "elif money < 30000:\n",
    "    paymoney = money * 0.95\n",
    "elif money < 50000:\n",
    "    paymoney = money * 0.9\n",
    "elif money < 100000:\n",
    "    paymoney = money * 0.85\n",
    "else:\n",
    "    paymoney = money * 0.8\n",
    "\n",
    "print(f\"購買金額是:{money}\")\n",
    "print(f\"實付金額是:{paymoney:.0f}\")"
   ]
  },
  {
   "cell_type": "code",
   "execution_count": 68,
   "metadata": {},
   "outputs": [
    {
     "name": "stdout",
     "output_type": "stream",
     "text": [
      "獎金:0\n"
     ]
    }
   ],
   "source": [
    "#國文100 數學100 獎金1000元\n",
    "#國文100或數學100 獎金500元\n",
    "#其他獎金 0元\n",
    "\n",
    "chinese = int(input(\"請輸入國文分數\"))\n",
    "math = int(input(\"請輸入數學分數\"))\n",
    "bonus = 0\n",
    "\n",
    "if chinese == 100 and math == 100:\n",
    "    bonus = 1000\n",
    "elif chinese == 100 or math == 100:\n",
    "        bonus = 500\n",
    "\n",
    "print(f\"獎金:{bonus}\")"
   ]
  },
  {
   "cell_type": "code",
   "execution_count": 69,
   "metadata": {},
   "outputs": [
    {
     "data": {
      "text/plain": [
       "5050"
      ]
     },
     "execution_count": 69,
     "metadata": {},
     "output_type": "execute_result"
    }
   ],
   "source": [
    "sum = 0\n",
    "for i in range(1,101):\n",
    "    sum += i\n",
    "sum\n"
   ]
  }
 ],
 "metadata": {
  "kernelspec": {
   "display_name": "Python 3",
   "language": "python",
   "name": "python3"
  },
  "language_info": {
   "codemirror_mode": {
    "name": "ipython",
    "version": 3
   },
   "file_extension": ".py",
   "mimetype": "text/x-python",
   "name": "python",
   "nbconvert_exporter": "python",
   "pygments_lexer": "ipython3",
   "version": "3.10.12"
  },
  "orig_nbformat": 4
 },
 "nbformat": 4,
 "nbformat_minor": 2
}
