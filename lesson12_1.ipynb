{
 "cells": [
  {
   "cell_type": "code",
   "execution_count": null,
   "metadata": {},
   "outputs": [],
   "source": [
    "name = 'robert'\n",
    "\n",
    "print(type(name))\n",
    "#str 的實體方法 ,capitalize()\n",
    "name.capitalize()"
   ]
  },
  {
   "cell_type": "code",
   "execution_count": null,
   "metadata": {},
   "outputs": [],
   "source": [
    "words = 'That is Alice\\'s cat.'\n",
    "words = 'That is Alice\\'s cat.'\n",
    "words"
   ]
  },
  {
   "cell_type": "code",
   "execution_count": null,
   "metadata": {},
   "outputs": [],
   "source": [
    "# r = ''內皆為輸出符號 沒有拖曳字元\n",
    "words = r'That is Alice\\'s cat.'\n",
    "print(words)"
   ]
  },
  {
   "cell_type": "code",
   "execution_count": null,
   "metadata": {},
   "outputs": [],
   "source": [
    "#單行文字\n",
    "sentences= \"Dear Alice,\\\n",
    "Eve's cat has been arrested for catnapping,\\\n",
    "cat burglary, and extortion.Sincerely Bob\"\n",
    "\n",
    "print(sentences)"
   ]
  },
  {
   "cell_type": "code",
   "execution_count": null,
   "metadata": {},
   "outputs": [],
   "source": [
    "#多行文字 \\n\\n 換行\n",
    "sentences= \"Dear Alice,\\n\\nEve's cat has been arrested for catnapping,cat burglary,\\n\\n and extortion.Sincerely Bob\"\n",
    "print(sentences)"
   ]
  },
  {
   "cell_type": "code",
   "execution_count": null,
   "metadata": {},
   "outputs": [],
   "source": [
    "#多行文字 ''' 開頭使用三引號 \n",
    "sentences= '''Dear Alice,\n",
    "\n",
    "Eve's cat has been arrested for catnapping,cat burglary,\n",
    "\n",
    " and extortion.Sincerely Bob'''\n",
    "\n",
    "print(sentences)"
   ]
  },
  {
   "cell_type": "code",
   "execution_count": null,
   "metadata": {},
   "outputs": [],
   "source": [
    "letters = 'abcdefghijklmnopqrstuvwxyz'\n",
    "for i in letters:\n",
    "    print(i,end=' ')"
   ]
  },
  {
   "cell_type": "code",
   "execution_count": null,
   "metadata": {},
   "outputs": [],
   "source": [
    "letters[0], letters[-1], letters[:5], letters[-5:]"
   ]
  },
  {
   "cell_type": "code",
   "execution_count": null,
   "metadata": {},
   "outputs": [],
   "source": [
    "name = 'Henny'\n",
    "name.replace('H','P')\n",
    "name"
   ]
  },
  {
   "cell_type": "code",
   "execution_count": null,
   "metadata": {},
   "outputs": [],
   "source": [
    "name = 'Henny'\n",
    "name = name.replace('H','P')\n",
    "name"
   ]
  },
  {
   "cell_type": "code",
   "execution_count": null,
   "metadata": {},
   "outputs": [],
   "source": [
    "#字串的實體方法split(),join()\n",
    "list1 = '2023/10/2'.split(sep='/')\n",
    "'-'.join(list1)"
   ]
  },
  {
   "cell_type": "code",
   "execution_count": null,
   "metadata": {},
   "outputs": [],
   "source": [
    "print('早餐項目'.center(20,'-'))\n",
    "print('三明治'.ljust(15,'.'),end='')\n",
    "print('35元'.rjust(5))\n",
    "print('蘋果派'.ljust(15,'.'),end='')\n",
    "print('40元'.rjust(5))\n",
    "print('漢堡'.ljust(15,'.'),end='')\n",
    "print('60元'.rjust(5))"
   ]
  },
  {
   "cell_type": "code",
   "execution_count": null,
   "metadata": {},
   "outputs": [],
   "source": [
    "# 用空字串累積內容到 \"items\" 內\n",
    "items = ''\n",
    "items += '早餐項目'.center(20,'-')\n",
    "items += \"\\n\"\n",
    "items += '三明志'.ljust(15,'.')\n",
    "items += '35元'.rjust(5)\n",
    "items += '\\n'\n",
    "items += '蘋果派'.ljust(15,'.')\n",
    "items += '40元'.rjust(5)\n",
    "items += \"\\n\"\n",
    "items += '漢堡'.ljust(15,'.')\n",
    "items += '60元'.rjust(5)\n",
    "items += '\\n'\n",
    "\n",
    "print(items)"
   ]
  },
  {
   "cell_type": "code",
   "execution_count": 25,
   "metadata": {},
   "outputs": [],
   "source": [
    "with open('早餐項目.txt',mode='w',encoding='utf-8') as file:\n",
    "    file.write(items)"
   ]
  }
 ],
 "metadata": {
  "kernelspec": {
   "display_name": "Python 3",
   "language": "python",
   "name": "python3"
  },
  "language_info": {
   "codemirror_mode": {
    "name": "ipython",
    "version": 3
   },
   "file_extension": ".py",
   "mimetype": "text/x-python",
   "name": "python",
   "nbconvert_exporter": "python",
   "pygments_lexer": "ipython3",
   "version": "3.10.8"
  },
  "orig_nbformat": 4
 },
 "nbformat": 4,
 "nbformat_minor": 2
}
