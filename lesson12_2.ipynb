{
 "cells": [
  {
   "cell_type": "code",
   "execution_count": 4,
   "metadata": {},
   "outputs": [
    {
     "name": "stdout",
     "output_type": "stream",
     "text": [
      "輸入錯誤\n"
     ]
    }
   ],
   "source": [
    "try:\n",
    "    nums = int(input(\"請輸入整數:\"))\n",
    "except ValueError:\n",
    "    print(\"輸入錯誤\")\n",
    "else:\n",
    "    print(nums)"
   ]
  },
  {
   "cell_type": "code",
   "execution_count": null,
   "metadata": {},
   "outputs": [],
   "source": [
    "import pyinputplus\n",
    "name = pyinputplus.inputStr()\n",
    "print(name)"
   ]
  },
  {
   "cell_type": "code",
   "execution_count": null,
   "metadata": {},
   "outputs": [],
   "source": [
    "import pyinputplus as pyip\n",
    "nums = pyip.inputNum(\"請輸入整數:\")\n",
    "print(nums)"
   ]
  },
  {
   "cell_type": "code",
   "execution_count": null,
   "metadata": {},
   "outputs": [],
   "source": [
    "empty_set = set()\n",
    "empty_set"
   ]
  },
  {
   "cell_type": "code",
   "execution_count": null,
   "metadata": {},
   "outputs": [],
   "source": [
    "empty_set = {} #這是建立dictionary\n",
    "type(empty_set)"
   ]
  },
  {
   "cell_type": "code",
   "execution_count": null,
   "metadata": {},
   "outputs": [],
   "source": [
    "even_numbers = {0, 2, 4, 6, 8, 10, 0, 2, 4, 6, 8, 10}\n",
    "even_numbers.add(12)\n",
    "even_numbers"
   ]
  },
  {
   "cell_type": "code",
   "execution_count": null,
   "metadata": {},
   "outputs": [],
   "source": [
    "#撰寫一個大樂透自動選號程式，程式執行會以亂數的方式顯示1-49之間七個不重複的大樂透號碼。\n",
    "\n",
    "import random\n",
    "lotos = set()\n",
    "while len(lotos)<7:\n",
    "    lotos.add(random.randint(1,49))\n",
    "\n",
    "print(lotos)"
   ]
  },
  {
   "cell_type": "code",
   "execution_count": null,
   "metadata": {},
   "outputs": [],
   "source": [
    "import random\n",
    "lotos = set()\n",
    "while len(lotos)<7:\n",
    "    lotos.add(random.randint(1,49))\n",
    "\n",
    "lotos_list = list(lotos)\n",
    "lotos_list\n",
    "\n",
    "print(\"本期大樂透電腦選號如下:\")\n",
    "for num in lotos_list[:6]:\n",
    "    print(num,end=\" \")\n",
    "\n",
    "print()\n",
    "print(f\"特別號:{lotos_list[-1]}\")\n"
   ]
  },
  {
   "cell_type": "code",
   "execution_count": 21,
   "metadata": {},
   "outputs": [
    {
     "name": "stdout",
     "output_type": "stream",
     "text": [
      "請輸入電腦選號的組數:(最多10組)\n",
      "本期大樂透電腦選號號碼如下:\n",
      "第1組\n",
      "7 42 11 16 48 19 \n",
      "特別號:28\n",
      "\n",
      "========\n",
      "第2組\n",
      "2 35 4 37 20 22 \n",
      "特別號:25\n",
      "\n",
      "========\n",
      "第3組\n",
      "4 38 13 14 48 16 \n",
      "特別號:27\n",
      "\n",
      "========\n",
      "第4組\n",
      "38 40 13 47 15 19 \n",
      "特別號:26\n",
      "\n",
      "========\n",
      "第5組\n",
      "34 36 7 8 46 20 \n",
      "特別號:22\n",
      "\n",
      "========\n"
     ]
    }
   ],
   "source": [
    "import pyinputplus as pyip #簡化工具箱\n",
    "import random   #插入隨機工具箱\n",
    "\n",
    "def generate_loto() -> list:     #定義一個list\n",
    "    lotos = set()\n",
    "    while len(lotos) < 7:\n",
    "        lotos.add(random.randint(1,49))\n",
    "\n",
    "    return list(lotos)\n",
    "\n",
    "\n",
    "num = pyip.inputInt(\"請輸入電腦選號的組數:(最多10組)\\n\",max=10)\n",
    "print(\"本期大樂透電腦選號號碼如下:\")\n",
    "for i in range(num):\n",
    "    print(f\"第{i+1}組\")\n",
    "    lotos_list = generate_loto()\n",
    "    for num in lotos_list[:6]:\n",
    "        print(num,end=\" \")\n",
    "    print()\n",
    "    print(f\"特別號:{lotos_list[-1]}\\n\")\n",
    "    print('========')"
   ]
  }
 ],
 "metadata": {
  "kernelspec": {
   "display_name": "Python 3",
   "language": "python",
   "name": "python3"
  },
  "language_info": {
   "codemirror_mode": {
    "name": "ipython",
    "version": 3
   },
   "file_extension": ".py",
   "mimetype": "text/x-python",
   "name": "python",
   "nbconvert_exporter": "python",
   "pygments_lexer": "ipython3",
   "version": "3.10.8"
  },
  "orig_nbformat": 4
 },
 "nbformat": 4,
 "nbformat_minor": 2
}
