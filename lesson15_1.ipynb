{
 "cells": [
  {
   "cell_type": "code",
   "execution_count": null,
   "metadata": {},
   "outputs": [],
   "source": [
    "import matplotlib.pyplot as plt\n",
    "index = [3, 4, 5, 6, 7]\n",
    "subject = ['apple', 'banana', 'orange', 'tomato', 'guava']\n",
    "value1 = [5000, 6000, 7000, 8000, 9000]\n",
    "value2 = [3000, 4000, 5000, 6000, 7000]\n",
    "value3 = [4000, 5000, 6000, 7000, 8000]\n",
    "\n",
    "figure = plt.figure(figsize=(8,5))\n",
    "axes = figure.add_subplot(1,1,1)\n",
    "bin_width=0.3\n",
    "axes.bar(index, value1,width=bin_width,color='red')\n",
    "plt.show()"
   ]
  },
  {
   "cell_type": "code",
   "execution_count": null,
   "metadata": {},
   "outputs": [],
   "source": [
    "import matplotlib.pyplot as plt\n",
    "index = [3, 4, 5, 6, 7]\n",
    "index1 = [2.7, 3.7, 4.7, 5.7, 6.7]\n",
    "index2 = [3.3, 4.3, 5.3, 6.3, 7.3]\n",
    "subject = ['apple', 'banana', 'orange', 'tomato', 'guava']\n",
    "value1 = [5000, 6000, 7000, 8000, 9000]\n",
    "value2 = [3000, 4000, 5000, 6000, 7000]\n",
    "value3 = [4000, 5000, 6000, 7000, 8000]\n",
    "\n",
    "figure = plt.figure(figsize=(8,5))\n",
    "axes = figure.add_subplot(1,1,1)\n",
    "bin_width=0.3\n",
    "axes.bar(index, value1,width=bin_width,color='red')\n",
    "axes.bar(index1, value2,width=bin_width,color='blue')\n",
    "axes.bar(index2, value3,width=bin_width,color='green')\n",
    "plt.show()"
   ]
  },
  {
   "cell_type": "code",
   "execution_count": null,
   "metadata": {},
   "outputs": [],
   "source": [
    "import numpy as np\n",
    "index = [3, 4, 5, 6, 7]\n",
    "index_array = np.array(index)\n",
    "index_array - 0.3"
   ]
  },
  {
   "cell_type": "code",
   "execution_count": null,
   "metadata": {},
   "outputs": [],
   "source": [
    "import matplotlib.pyplot as plt\n",
    "import numpy as np\n",
    "index = np.array([3, 4, 5, 6, 7])\n",
    "subject = ['apple', 'banana', 'orange', 'tomato', 'guava']\n",
    "value1 = [5000, 6000, 7000, 8000, 9000]\n",
    "value2 = [3000, 4000, 5000, 6000, 7000]\n",
    "value3 = [4000, 5000, 6000, 7000, 8000]\n",
    "\n",
    "figure = plt.figure(figsize=(8,5))\n",
    "axes = figure.add_subplot(1,1,1)\n",
    "bin_width=0.3\n",
    "axes.bar(index, value1,width=bin_width,color='red')\n",
    "axes.bar(index-0.3, value2,width=bin_width,color='blue')\n",
    "axes.bar(index+0.3, value3,width=bin_width,color='green')\n",
    "axes.set_xticks(index,labels=subject)\n",
    "xmin, xmax, ymin, ymax = axes.axis()\n",
    "axes.axis([xmin-0.2, xmax+0.2 , ymin, ymax+500])\n",
    "plt.show()\n"
   ]
  },
  {
   "cell_type": "code",
   "execution_count": null,
   "metadata": {},
   "outputs": [],
   "source": [
    "import matplotlib.pyplot as plt\n",
    "import numpy as np\n",
    "index = np.array([3, 4, 5, 6, 7])\n",
    "subject = ['apple', 'banana', 'orange', 'tomato', 'guava']\n",
    "value1 = [5000, 6000, 7000, 8000, 9000]\n",
    "value2 = [3000, 4000, 5000, 6000, 7000]\n",
    "value3 = [4000, 5000, 6000, 7000, 8000]\n",
    "\n",
    "figure = plt.figure(figsize=(8,5))\n",
    "axes = figure.add_subplot(1,1,1)\n",
    "bin_width=0.3\n",
    "barContainer1 = axes.bar(index, value1,width=bin_width,color='red')\n",
    "barContainer2 = axes.bar(index-0.3, value2,width=bin_width,color='blue')\n",
    "barContainer3 = axes.bar(index+0.3, value3,width=bin_width,color='green')\n",
    "axes.set_xticks(index,labels=subject)\n",
    "xmin, xmax, ymin, ymax = axes.axis()\n",
    "axes.axis([xmin-0.2, xmax+0.2 , ymin, ymax+500])\n",
    "for rec in barContainer1.patches:\n",
    "    #print(rec)\n",
    "    #print(rec.xy[0])\n",
    "    height = rec.get_height()\n",
    "    axes.annotate(str(height),xy=(rec.xy[0],height+50))\n",
    "\n",
    "for rec in barContainer2.patches:\n",
    "    #print(rec)\n",
    "    #print(rec.xy[0])\n",
    "    height = rec.get_height()\n",
    "    axes.annotate(str(height),xy=(rec.xy[0],height+50))\n",
    "\n",
    "for rec in barContainer3.patches:\n",
    "    #print(rec)\n",
    "    #print(rec.xy[0])\n",
    "    height = rec.get_height()\n",
    "    axes.annotate(str(height),xy=(rec.xy[0],height+50))\n",
    "plt.show()"
   ]
  }
 ],
 "metadata": {
  "kernelspec": {
   "display_name": "Python 3",
   "language": "python",
   "name": "python3"
  },
  "language_info": {
   "codemirror_mode": {
    "name": "ipython",
    "version": 3
   },
   "file_extension": ".py",
   "mimetype": "text/x-python",
   "name": "python",
   "nbconvert_exporter": "python",
   "pygments_lexer": "ipython3",
   "version": "3.10.8"
  },
  "orig_nbformat": 4
 },
 "nbformat": 4,
 "nbformat_minor": 2
}
