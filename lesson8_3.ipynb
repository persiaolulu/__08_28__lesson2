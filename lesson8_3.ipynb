{
 "cells": [
  {
   "cell_type": "code",
   "execution_count": null,
   "metadata": {},
   "outputs": [],
   "source": [
    "stu1 = [78, 92, 85, 64, 92]\n",
    "stu1"
   ]
  },
  {
   "cell_type": "code",
   "execution_count": null,
   "metadata": {},
   "outputs": [],
   "source": [
    "stu2 = []\n",
    "stu2.append(78)\n",
    "stu2.append(92)\n",
    "stu2.append(69)\n",
    "stu2.append(63)\n",
    "stu2.append(72)\n",
    "stu2"
   ]
  },
  {
   "cell_type": "code",
   "execution_count": 7,
   "metadata": {},
   "outputs": [
    {
     "data": {
      "text/plain": [
       "[94, 81, 71, 91, 95]"
      ]
     },
     "execution_count": 7,
     "metadata": {},
     "output_type": "execute_result"
    }
   ],
   "source": [
    "# _ 為 省略運算子\n",
    "import random\n",
    "stu2 = []\n",
    "for _ in range(5):\n",
    "    stu2.append(random.randint(50,100))\n",
    "stu2"
   ]
  },
  {
   "cell_type": "code",
   "execution_count": null,
   "metadata": {},
   "outputs": [],
   "source": [
    "import random\n",
    "\n",
    "def generate_stu():\n",
    "    scores = []\n",
    "    for _ in range(5):\n",
    "        scores.append(random.randint(50,100))\n",
    "    return scores\n",
    "\n",
    "generate_stu()"
   ]
  },
  {
   "cell_type": "code",
   "execution_count": null,
   "metadata": {},
   "outputs": [],
   "source": [
    "#建立50個學生\n",
    "try:\n",
    "    num = int(input(\"請輸入學生的人數:\"))\n",
    "except:\n",
    "    print(\"格式錯誤\")\n",
    "else:\n",
    "    students = []\n",
    "    for _ in range(num):\n",
    "        scores = generate_stu()\n",
    "        students.append(scores)\n",
    "\n",
    "    print(students)\n"
   ]
  },
  {
   "cell_type": "code",
   "execution_count": null,
   "metadata": {},
   "outputs": [],
   "source": [
    "#建立50個學生 防止輸入錯誤需要重新啟動，利用 while true ,最後記得break跳出迴圈。\n",
    "while True:\n",
    "    try:\n",
    "        num = int(input(\"請輸入學生的人數:\"))\n",
    "    except:\n",
    "        print(\"格式錯誤\")\n",
    "    else:\n",
    "        students = []\n",
    "        for _ in range(num):\n",
    "            scores = generate_stu()\n",
    "            students.append(scores)\n",
    "\n",
    "        print(students)\n",
    "        break"
   ]
  },
  {
   "cell_type": "code",
   "execution_count": null,
   "metadata": {},
   "outputs": [],
   "source": [
    "#建立50個學生 加入檢查人數低於5人或大於50人=不會繼續運作，會跳回 while\n",
    "while True:\n",
    "    try:\n",
    "        num = int(input(\"請輸入學生的人數:\"))\n",
    "    except:\n",
    "        print(\"格式錯誤\")\n",
    "    else:\n",
    "        if not (num >=5 and num <=50):\n",
    "            continue\n",
    "\n",
    "        students = []\n",
    "        for _ in range(num):\n",
    "            scores = generate_stu()\n",
    "            students.append(scores)\n",
    "\n",
    "        print(students)\n",
    "        break"
   ]
  },
  {
   "cell_type": "code",
   "execution_count": null,
   "metadata": {},
   "outputs": [],
   "source": [
    "#安裝外部套件 省略一大堆\n",
    "import pyinputplus as pyip\n",
    "\n",
    "num = pyip.inputInt('請輸入學生的人數:', min = 5, max=50)\n",
    "students = []\n",
    "for _ in range(num):\n",
    "    scores = generate_stu()\n",
    "    students.append(scores)\n",
    "\n",
    "students"
   ]
  }
 ],
 "metadata": {
  "kernelspec": {
   "display_name": "Python 3",
   "language": "python",
   "name": "python3"
  },
  "language_info": {
   "codemirror_mode": {
    "name": "ipython",
    "version": 3
   },
   "file_extension": ".py",
   "mimetype": "text/x-python",
   "name": "python",
   "nbconvert_exporter": "python",
   "pygments_lexer": "ipython3",
   "version": "3.10.8"
  },
  "orig_nbformat": 4
 },
 "nbformat": 4,
 "nbformat_minor": 2
}
