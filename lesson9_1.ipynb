{
 "cells": [
  {
   "cell_type": "code",
   "execution_count": 4,
   "metadata": {},
   "outputs": [],
   "source": [
    "import random\n",
    "\n",
    "def generate_stu()->list[int]:\n",
    "    scores = []\n",
    "    for _ in range(5):\n",
    "        scores.append(random.randint(50,100))\n",
    "    return scores\n",
    "\n",
    "def getNames(num:int) -> list[str]:    #自訂function 告訴系統,輸入需為整數,且輸出時list內為字串\n",
    "    with open(\"names.txt\", encoding=\"utf-8\") as file:\n",
    "        names = []\n",
    "        for name in file:\n",
    "            names.append(name.rstrip())\n",
    "    return random.choices(names,k=num)"
   ]
  },
  {
   "cell_type": "code",
   "execution_count": null,
   "metadata": {},
   "outputs": [],
   "source": [
    "#整合lesson9_2  所寫功能\n",
    "import pyinputplus as pyip\n",
    "\n",
    "num = pyip.inputInt('請輸入學生的人數:', min = 5, max=50)\n",
    "print(num)\n",
    "names = getNames(num=num)       #建立學生姓名的list\n",
    "students = []\n",
    "for i in range(num):\n",
    "    scores = generate_stu()       #建立學生的5個分數\n",
    "    scores.insert(0,names[i])         #將學生姓名加入至list內\n",
    "    students.append(scores)\n",
    "\n",
    "students"
   ]
  },
  {
   "cell_type": "code",
   "execution_count": 11,
   "metadata": {},
   "outputs": [
    {
     "name": "stdout",
     "output_type": "stream",
     "text": [
      "存檔成功\n"
     ]
    }
   ],
   "source": [
    "import csv   #內建工具箱\n",
    "with open(\"學生成績.csv\",mode = 'w',encoding=\"utf-8\",newline=\"\") as file:   #學生成績可改變\n",
    "    csv_writer = csv.writer(file)\n",
    "    csv_writer.writerows(students)     #二維list可改變\n",
    "print(\"存檔成功\")"
   ]
  },
  {
   "cell_type": "code",
   "execution_count": 19,
   "metadata": {},
   "outputs": [],
   "source": [
    "def save_csv_file(filename:str, data:list) -> bool:\n",
    "    try:\n",
    "        with open(filename,mode = 'w',encoding=\"utf-8\",newline=\"\") as file:   #學生成績可改變\n",
    "            csv_writer = csv.writer(file)\n",
    "            csv_writer.writerows([\"姓名\",\"國文\",\"英文\",\"數學\",\"地理\",\"歷史\"])\n",
    "            csv_writer.writerows(data)\n",
    "    except:\n",
    "        return False \n",
    "    else:\n",
    "        return True"
   ]
  },
  {
   "cell_type": "code",
   "execution_count": 20,
   "metadata": {},
   "outputs": [
    {
     "name": "stdout",
     "output_type": "stream",
     "text": [
      "存檔成功\n"
     ]
    }
   ],
   "source": [
    "\n",
    "if save_csv_file(filename=\"學生成績1.csv\",data=students):\n",
    "    print(\"存檔成功\")\n",
    "else:\n",
    "    print(\"存檔失敗\")"
   ]
  },
  {
   "cell_type": "code",
   "execution_count": 22,
   "metadata": {},
   "outputs": [
    {
     "name": "stdout",
     "output_type": "stream",
     "text": [
      "存檔成功\n"
     ]
    }
   ],
   "source": [
    "fname = input(\"請輸入csv儲檔的檔案名稱:\")\n",
    "if save_csv_file(filename=f\"{fname}.csv\",data=students):\n",
    "    print(\"存檔成功\")\n",
    "else:\n",
    "    print(\"存檔失敗\")"
   ]
  }
 ],
 "metadata": {
  "kernelspec": {
   "display_name": "Python 3",
   "language": "python",
   "name": "python3"
  },
  "language_info": {
   "codemirror_mode": {
    "name": "ipython",
    "version": 3
   },
   "file_extension": ".py",
   "mimetype": "text/x-python",
   "name": "python",
   "nbconvert_exporter": "python",
   "pygments_lexer": "ipython3",
   "version": "3.10.8"
  },
  "orig_nbformat": 4
 },
 "nbformat": 4,
 "nbformat_minor": 2
}
