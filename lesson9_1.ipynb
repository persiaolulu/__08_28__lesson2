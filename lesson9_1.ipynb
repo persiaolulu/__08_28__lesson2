{
 "cells": [
  {
   "cell_type": "code",
   "execution_count": 1,
   "metadata": {},
   "outputs": [],
   "source": [
    "import random\n",
    "\n",
    "def generate_stu()->list[int]:\n",
    "    scores = []\n",
    "    for _ in range(5):\n",
    "        scores.append(random.randint(50,100))\n",
    "    return scores\n",
    "\n",
    "def getNames(num:int) -> list[str]:    #自訂function 告訴系統,輸入需為整數,且輸出時list內為字串\n",
    "    with open(\"names.txt\", encoding=\"utf-8\") as file:\n",
    "        names = []\n",
    "        for name in file:\n",
    "            names.append(name.rstrip())\n",
    "    return random.choices(names,k=num)"
   ]
  },
  {
   "cell_type": "code",
   "execution_count": 2,
   "metadata": {},
   "outputs": [
    {
     "name": "stdout",
     "output_type": "stream",
     "text": [
      "請輸入學生的人數:20\n"
     ]
    },
    {
     "data": {
      "text/plain": [
       "[['李淑芳', 50, 95, 75, 56, 100],\n",
       " ['羅幸娥', 90, 70, 50, 63, 82],\n",
       " ['謝貞妃', 66, 57, 51, 68, 94],\n",
       " ['柯韋成', 52, 72, 81, 76, 81],\n",
       " ['陳凱翔', 50, 59, 52, 54, 93],\n",
       " ['林怡偉', 78, 96, 62, 60, 53],\n",
       " ['艾巧夫', 69, 74, 70, 74, 93],\n",
       " ['楊建安', 55, 69, 97, 79, 98],\n",
       " ['林佳光', 69, 81, 68, 81, 61],\n",
       " ['李政白', 58, 82, 89, 58, 58],\n",
       " ['彭茹靖', 85, 87, 50, 85, 92],\n",
       " ['林玉佩', 78, 52, 61, 76, 78],\n",
       " ['陳信宏', 98, 64, 63, 63, 69],\n",
       " ['黃翔杰', 88, 79, 56, 84, 74],\n",
       " ['張雅芬', 98, 79, 96, 57, 93],\n",
       " ['張韋成', 88, 55, 94, 80, 86],\n",
       " ['簡佳樺', 77, 54, 50, 98, 99],\n",
       " ['藍姿婷', 100, 84, 54, 52, 62],\n",
       " ['王坤安', 57, 100, 74, 54, 80],\n",
       " ['林益妏', 52, 55, 94, 70, 52]]"
      ]
     },
     "execution_count": 2,
     "metadata": {},
     "output_type": "execute_result"
    }
   ],
   "source": [
    "#整合lesson9_2  所寫功能\n",
    "import pyinputplus as pyip\n",
    "\n",
    "num = pyip.inputInt('請輸入學生的人數:', min = 5, max=50)\n",
    "print(num)\n",
    "names = getNames(num=num)       #建立學生姓名的list\n",
    "students = []\n",
    "for i in range(num):\n",
    "    scores = generate_stu()       #建立學生的5個分數\n",
    "    scores.insert(0,names[i])         #將學生姓名加入至list內\n",
    "    students.append(scores)\n",
    "\n",
    "students"
   ]
  },
  {
   "cell_type": "code",
   "execution_count": 3,
   "metadata": {},
   "outputs": [
    {
     "name": "stdout",
     "output_type": "stream",
     "text": [
      "存檔成功\n"
     ]
    }
   ],
   "source": [
    "import csv   #內建工具箱\n",
    "with open(\"學生成績.csv\",mode = 'w',encoding=\"utf-8\",newline=\"\") as file:   #學生成績可改變\n",
    "    csv_writer = csv.writer(file)\n",
    "    csv_writer.writerows(students)     #二維list可改變\n",
    "print(\"存檔成功\")"
   ]
  },
  {
   "cell_type": "code",
   "execution_count": 4,
   "metadata": {},
   "outputs": [],
   "source": [
    "def save_csv_file(filename:str, data:list) -> bool:\n",
    "    try:\n",
    "        with open(filename,mode = 'w',encoding=\"utf-8\",newline=\"\") as file:   #學生成績可改變\n",
    "            csv_writer = csv.writer(file)\n",
    "            csv_writer.writerows([\"姓名\",\"國文\",\"英文\",\"數學\",\"地理\",\"歷史\"])\n",
    "            csv_writer.writerows(data)\n",
    "    except:\n",
    "        return False \n",
    "    else:\n",
    "        return True"
   ]
  },
  {
   "cell_type": "code",
   "execution_count": 5,
   "metadata": {},
   "outputs": [
    {
     "name": "stdout",
     "output_type": "stream",
     "text": [
      "存檔成功\n"
     ]
    }
   ],
   "source": [
    "\n",
    "if save_csv_file(filename=\"學生成績1.csv\",data=students):\n",
    "    print(\"存檔成功\")\n",
    "else:\n",
    "    print(\"存檔失敗\")"
   ]
  },
  {
   "cell_type": "code",
   "execution_count": 6,
   "metadata": {},
   "outputs": [
    {
     "name": "stdout",
     "output_type": "stream",
     "text": [
      "存檔成功\n"
     ]
    }
   ],
   "source": [
    "fname = input(\"請輸入csv儲檔的檔案名稱:\")\n",
    "if save_csv_file(filename=f\"{fname}.csv\",data=students):\n",
    "    print(\"存檔成功\")\n",
    "else:\n",
    "    print(\"存檔失敗\")"
   ]
  }
 ],
 "metadata": {
  "kernelspec": {
   "display_name": "Python 3",
   "language": "python",
   "name": "python3"
  },
  "language_info": {
   "codemirror_mode": {
    "name": "ipython",
    "version": 3
   },
   "file_extension": ".py",
   "mimetype": "text/x-python",
   "name": "python",
   "nbconvert_exporter": "python",
   "pygments_lexer": "ipython3",
   "version": "3.10.8"
  },
  "orig_nbformat": 4
 },
 "nbformat": 4,
 "nbformat_minor": 2
}
