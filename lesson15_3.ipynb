{
 "cells": [
  {
   "cell_type": "code",
   "execution_count": null,
   "metadata": {},
   "outputs": [],
   "source": [
    "import matplotlib.pyplot as plt\n",
    "\n",
    "student1 = {'國文':78,'英文':80,'數學':92,'歷史':75,'探索':85}\n",
    "student2 = {'國文':90,'英文':75,'數學':98,'歷史':65,'探索':75}\n",
    "\n",
    "subjects = list(student1.keys())\n",
    "value1 = list(student1.values())\n",
    "\n",
    "figure = plt.figure()\n",
    "axes = figure.add_subplot(1,1,1)\n",
    "axes.plot(subjects,value1,'m-.o')"
   ]
  },
  {
   "cell_type": "code",
   "execution_count": null,
   "metadata": {},
   "outputs": [],
   "source": [
    "#使用codespace 要安裝中文字型\n",
    "#install 要加-y\n",
    "#命令列:sudo apt-get update -y\n",
    "#命令列:sudo apt-get install -y fonts-wqy-zenhei\n",
    "#說明網址:https://askubuntu.com/questions/490829/how-can-i-install-chinese-fonts-on-kubuntu-14-04\n",
    "#字型位置:/usr/share/fonts/truetype/wqy/wqy-zenhei.ttc\n",
    "import matplotlib.pyplot as plt\n",
    "from matplotlib.font_manager import FontProperties\n",
    "\n",
    "student1 = {'國文':78, '英文':80, '數學':92, '歷史':75, '探索':85}\n",
    "student2 = {'國文':90, '英文':75, '數學':98, '歷史':65, '探索':75}\n",
    "#window電腦\n",
    "#font=FontProperties(fname=r'c:\\windows\\fonts\\simsun.ttc',size=8)\n",
    "\n",
    "#mac電腦\n",
    "#font=FontProperties(fname='/Library/Fonts/Arial Unicode.ttf',size=8)\n",
    "\n",
    "#codespace\n",
    "font = FontProperties(fname='/usr/share/fonts/truetype/wqy/wqy-zenhei.ttc',size=8)\n",
    "\n",
    "subjects = list(student1.keys())\n",
    "value1 = list(student1.values())\n",
    "value2 = list(student2.values())\n",
    "\n",
    "figure = plt.figure()\n",
    "axes = figure.add_subplot(1,1,1)\n",
    "axes.plot(subjects,value1,'m-.o')\n",
    "axes.plot(subjects,value2,'c--o')\n",
    "axes.set_xticklabels(subjects,fontproperties=font)\n",
    "axes.set_title('學生1和學生2分數比較表',fontproperties=font)\n",
    "axes.grid(axis='y')\n",
    "plt.show()"
   ]
  }
 ],
 "metadata": {
  "kernelspec": {
   "display_name": "Python 3",
   "language": "python",
   "name": "python3"
  },
  "language_info": {
   "codemirror_mode": {
    "name": "ipython",
    "version": 3
   },
   "file_extension": ".py",
   "mimetype": "text/x-python",
   "name": "python",
   "nbconvert_exporter": "python",
   "pygments_lexer": "ipython3",
   "version": "3.10.8"
  },
  "orig_nbformat": 4
 },
 "nbformat": 4,
 "nbformat_minor": 2
}
