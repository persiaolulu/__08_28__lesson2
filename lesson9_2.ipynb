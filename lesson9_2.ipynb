{
 "cells": [
  {
   "cell_type": "code",
   "execution_count": 1,
   "metadata": {},
   "outputs": [],
   "source": [
    "file = open(\"names.txt\", encoding=\"utf-8\")\n",
    "file.close()"
   ]
  },
  {
   "cell_type": "code",
   "execution_count": 6,
   "metadata": {},
   "outputs": [],
   "source": [
    "with open(\"names.txt\", encoding=\"utf-8\") as file:\n",
    "    pass"
   ]
  },
  {
   "cell_type": "code",
   "execution_count": null,
   "metadata": {},
   "outputs": [],
   "source": [
    "with open(\"names.txt\", encoding=\"utf-8\") as file:\n",
    "    print(file.read())"
   ]
  },
  {
   "cell_type": "code",
   "execution_count": null,
   "metadata": {},
   "outputs": [],
   "source": [
    "#for in 抓會有換行符號,所以用rstrip去除換行\\n\n",
    "with open(\"names.txt\", encoding=\"utf-8\") as file:\n",
    "    for name in file:\n",
    "        display(name.rstrip())"
   ]
  },
  {
   "cell_type": "code",
   "execution_count": null,
   "metadata": {},
   "outputs": [],
   "source": [
    "#變成list,即有索引編號\n",
    "with open(\"names.txt\", encoding=\"utf-8\") as file:\n",
    "    names = []\n",
    "    for name in file:\n",
    "        names.append(name.rstrip())\n",
    "\n",
    "names[10]"
   ]
  },
  {
   "cell_type": "code",
   "execution_count": null,
   "metadata": {},
   "outputs": [],
   "source": [
    "# 各個工具箱提供不同功能\n",
    "import pyinputplus as pyip       #pyip提供printInt\n",
    "import random        #random 提供隨機抽樣\n",
    "with open(\"names.txt\", encoding=\"utf-8\") as file:\n",
    "    names = []\n",
    "    for name in file:\n",
    "        names.append(name.rstrip())\n",
    "\n",
    "num = pyip.inputInt(\"請輸入要取得的名字數量:\",min=0,max=50)      #printInt = 確認使用者輸入為整數才會執行\n",
    "print(num)    #顯示輸入的數值(需要抽出的人數)\n",
    "random.choices(names,k=num)        #choices=\"多筆\"隨機內容 (listname,變數K=需求量)"
   ]
  },
  {
   "cell_type": "code",
   "execution_count": null,
   "metadata": {},
   "outputs": [],
   "source": [
    "import pyinputplus as pyip\n",
    "import random\n",
    "def getNames(num:int) -> list[str]:    #自訂function 告訴系統,輸入需為整數,且輸出時list內為字串\n",
    "    with open(\"names.txt\", encoding=\"utf-8\") as file:\n",
    "        names = []\n",
    "        for name in file:\n",
    "            names.append(name.rstrip())\n",
    "    return random.choices(names,k=num)\n",
    "\n",
    "n = pyip.inputInt(\"請輸入要取得的名字數量:\",min=0,max=50)\n",
    "getNames(num=n)"
   ]
  }
 ],
 "metadata": {
  "kernelspec": {
   "display_name": "Python 3",
   "language": "python",
   "name": "python3"
  },
  "language_info": {
   "codemirror_mode": {
    "name": "ipython",
    "version": 3
   },
   "file_extension": ".py",
   "mimetype": "text/x-python",
   "name": "python",
   "nbconvert_exporter": "python",
   "pygments_lexer": "ipython3",
   "version": "3.10.8"
  },
  "orig_nbformat": 4
 },
 "nbformat": 4,
 "nbformat_minor": 2
}
