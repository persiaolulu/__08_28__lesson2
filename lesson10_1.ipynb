{
 "cells": [
  {
   "cell_type": "code",
   "execution_count": 3,
   "metadata": {},
   "outputs": [],
   "source": [
    "with open(\"學生成績.csv\",mode = 'r',encoding=\"utf-8\",newline=\"\") as file:\n",
    "    pass\n"
   ]
  },
  {
   "cell_type": "code",
   "execution_count": null,
   "metadata": {},
   "outputs": [],
   "source": [
    "import csv\n",
    "with open(\"學生成績.csv\",mode = 'r',encoding=\"utf-8\",newline=\"\") as file:\n",
    "    csvReader = csv.reader(file)\n",
    "    for row in csvReader:\n",
    "        print(row)"
   ]
  },
  {
   "cell_type": "code",
   "execution_count": null,
   "metadata": {},
   "outputs": [],
   "source": [
    "#next 從下一行讀取\n",
    "import csv\n",
    "with open(\"學生成績.csv\",mode = 'r',encoding=\"utf-8\",newline=\"\") as file:\n",
    "    csvReader = csv.reader(file)\n",
    "    next(csvReader)\n",
    "    for row in csvReader:\n",
    "        print(row)"
   ]
  },
  {
   "cell_type": "code",
   "execution_count": null,
   "metadata": {},
   "outputs": [],
   "source": [
    "# 轉成二維list\n",
    "import csv\n",
    "with open(\"學生成績.csv\",mode = 'r',encoding=\"utf-8\",newline=\"\") as file:\n",
    "    csvReader = csv.reader(file)\n",
    "    next(csvReader)\n",
    "    #for row in csvReader:\n",
    "    #print(row)\n",
    "    students = list(csvReader)\n",
    "students\n",
    "    "
   ]
  },
  {
   "cell_type": "code",
   "execution_count": null,
   "metadata": {},
   "outputs": [],
   "source": [
    "print(\"國文>=80的學生有:\")\n",
    "for student in students:\n",
    "    if int(student[1])>= 80:\n",
    "        print(f'學生:{student[0]},國文:{student[1]}')\n"
   ]
  },
  {
   "cell_type": "code",
   "execution_count": null,
   "metadata": {},
   "outputs": [],
   "source": [
    "#加上計算人數\n",
    "print(\"國文>=80的學生有:\")\n",
    "amount = 0\n",
    "for student in students:\n",
    "    if int(student[1])>= 80:\n",
    "        amount+=1\n",
    "        print(f'學生:{student[0]},國文:{student[1]}')\n",
    "print(f\"共有{amount}位學生達標\")"
   ]
  }
 ],
 "metadata": {
  "kernelspec": {
   "display_name": "Python 3",
   "language": "python",
   "name": "python3"
  },
  "language_info": {
   "codemirror_mode": {
    "name": "ipython",
    "version": 3
   },
   "file_extension": ".py",
   "mimetype": "text/x-python",
   "name": "python",
   "nbconvert_exporter": "python",
   "pygments_lexer": "ipython3",
   "version": "3.10.8"
  },
  "orig_nbformat": 4
 },
 "nbformat": 4,
 "nbformat_minor": 2
}
