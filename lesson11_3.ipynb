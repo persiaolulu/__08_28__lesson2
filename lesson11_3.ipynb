{
 "cells": [
  {
   "cell_type": "code",
   "execution_count": 14,
   "metadata": {},
   "outputs": [],
   "source": [
    "class Student:\n",
    "    def __init__(self,name:str,ch:int,eng:int,math:int,geo:int,his:int):\n",
    "        self.姓名 = name\n",
    "        self.國文 = ch\n",
    "        self.英文 = eng\n",
    "        self.數學 = math\n",
    "        self.地理 = geo\n",
    "        self.歷史 = his\n",
    "\n",
    "    def __repr__(self) -> str:\n",
    "        return f'{self.姓名}的實體'"
   ]
  },
  {
   "cell_type": "code",
   "execution_count": null,
   "metadata": {},
   "outputs": [],
   "source": [
    "import csv\n",
    "with open(\"學生成績.csv\",encoding=\"utf-8\",newline='') as file:\n",
    "    dict_reader = csv.DictReader(file)\n",
    "    students = list(dict_reader)\n",
    "    for student in students:\n",
    "        student['國文'] = int(student['國文'])\n",
    "        student['英文'] = int(student['英文'])\n",
    "        student['數學'] = int(student['數學'])\n",
    "        student['地理'] = int(student['地理'])\n",
    "        student['歷史'] = int(student['歷史'])\n",
    "students"
   ]
  },
  {
   "cell_type": "code",
   "execution_count": 15,
   "metadata": {},
   "outputs": [
    {
     "data": {
      "text/plain": [
       "[陳嘉淑的實體,\n",
       " 黃詩妃的實體,\n",
       " 柯宜臻的實體,\n",
       " 白美珍的實體,\n",
       " 楊火帆的實體,\n",
       " 吳柏誠的實體,\n",
       " 戴萱能的實體,\n",
       " 陳文賢的實體,\n",
       " 林建宏的實體,\n",
       " 周家銘的實體,\n",
       " 羅佩樺的實體,\n",
       " 元延辛的實體,\n",
       " 陳奇瑄的實體,\n",
       " 林清英的實體,\n",
       " 黃麗美的實體,\n",
       " 戚亨的實體,\n",
       " 王惠皓的實體,\n",
       " 陳信宏的實體,\n",
       " 方雅慧的實體,\n",
       " 劉慧君的實體]"
      ]
     },
     "execution_count": 15,
     "metadata": {},
     "output_type": "execute_result"
    }
   ],
   "source": [
    "import csv\n",
    "with open(\"學生成績.csv\",encoding=\"utf-8\",newline='') as file:\n",
    "    dict_reader = csv.DictReader(file)\n",
    "    students = []\n",
    "    for student in dict_reader:\n",
    "        chinese = int(student['國文'])\n",
    "        english = int(student['英文'])\n",
    "        math = int(student['數學'])\n",
    "        geographic = int(student['地理'])\n",
    "        history = int(student['歷史'])\n",
    "        student = Student(student['姓名'],\n",
    "                ch=chinese,\n",
    "                eng=english,\n",
    "                math=math,\n",
    "                geo=geographic,\n",
    "                his=history)\n",
    "        students.append(student)\n",
    "        \n",
    "students"
   ]
  }
 ],
 "metadata": {
  "kernelspec": {
   "display_name": "Python 3",
   "language": "python",
   "name": "python3"
  },
  "language_info": {
   "codemirror_mode": {
    "name": "ipython",
    "version": 3
   },
   "file_extension": ".py",
   "mimetype": "text/x-python",
   "name": "python",
   "nbconvert_exporter": "python",
   "pygments_lexer": "ipython3",
   "version": "3.10.8"
  },
  "orig_nbformat": 4
 },
 "nbformat": 4,
 "nbformat_minor": 2
}
