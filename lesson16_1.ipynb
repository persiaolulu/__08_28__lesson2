{
 "cells": [
  {
   "cell_type": "code",
   "execution_count": null,
   "metadata": {},
   "outputs": [],
   "source": [
    "#使用二維的list\n",
    "#50位學生,每生5個分數\n",
    "import random\n",
    "students = []\n",
    "for j in range(50):\n",
    "    scores = []\n",
    "    for i in range(5):\n",
    "        scores.append(random.randint(50,100))\n",
    "    students.append(scores)\n",
    "\n",
    "students\n"
   ]
  },
  {
   "cell_type": "code",
   "execution_count": null,
   "metadata": {},
   "outputs": [],
   "source": [
    "#二維的ndArray   array=陣列   用於做統計\n",
    "import numpy as np\n",
    "\n",
    "scores = np.random.randint(50,high=101,size=(50,5))\n",
    "np.sum(scores)\n",
    "\n",
    "sums = np.sum(scores,axis=1)\n",
    "for student in sums:\n",
    "    print(student)"
   ]
  },
  {
   "cell_type": "code",
   "execution_count": null,
   "metadata": {},
   "outputs": [],
   "source": [
    "# numpy 內所提供之means工具\n",
    "means = np.mean(scores,axis=1)\n",
    "for student in means:\n",
    "    print(student)"
   ]
  },
  {
   "cell_type": "code",
   "execution_count": null,
   "metadata": {},
   "outputs": [],
   "source": []
  }
 ],
 "metadata": {
  "kernelspec": {
   "display_name": "Python 3",
   "language": "python",
   "name": "python3"
  },
  "language_info": {
   "codemirror_mode": {
    "name": "ipython",
    "version": 3
   },
   "file_extension": ".py",
   "mimetype": "text/x-python",
   "name": "python",
   "nbconvert_exporter": "python",
   "pygments_lexer": "ipython3",
   "version": "3.10.8"
  }
 },
 "nbformat": 4,
 "nbformat_minor": 2
}
