{
 "cells": [
  {
   "cell_type": "code",
   "execution_count": null,
   "metadata": {},
   "outputs": [],
   "source": [
    "#檢查台灣手機號碼輸入格式(xxxx-xxx-xxx)\n",
    "\n",
    "import pyinputplus as pyip\n",
    "\n",
    "phone_str = pyip.inputStr(\"請輸入手機號碼:(xxxx-xxx-xxx):\")\n",
    "print(phone_str)"
   ]
  },
  {
   "cell_type": "code",
   "execution_count": null,
   "metadata": {},
   "outputs": [],
   "source": [
    "#檢查台灣手機號碼輸入格式(xxxx-xxx-xxx)\n",
    "import pyinputplus as pyip\n",
    "\n",
    "def isPhoneNumber(phone:str) -> bool:\n",
    "    return True\n",
    "\n",
    "phone_str = pyip.inputStr(\"請輸入手機號碼:(xxxx-xxx-xxx):\")\n",
    "\n",
    "if isPhoneNumber(phone_str):\n",
    "    print(f\"您的手機號碼是:{phone_str}\")\n",
    "else:\n",
    "    print(\"格式錯誤\")"
   ]
  },
  {
   "cell_type": "code",
   "execution_count": null,
   "metadata": {},
   "outputs": [],
   "source": [
    "#檢查台灣手機號碼輸入格式(xxxx-xxx-xxx)\n",
    "import pyinputplus as pyip\n",
    "\n",
    "def isPhoneNumber(phone:str) -> bool:           \n",
    "    if len(phone) != 12:                 #逐一檢查(長度)\n",
    "        return False\n",
    "    elif not phone [0:4].isdigit():           #檢查 1-4 碼是否為數字\n",
    "        return False\n",
    "    elif phone[4] != \"-\":                #檢查第五位是否為\"-\"\n",
    "        return False\n",
    "    elif not phone [5:8].isdigit():          #檢查 6-8 碼是否為數字\n",
    "        return False\n",
    "    elif phone[8] != \"-\":                     #檢查第9位是否為\"-\"\n",
    "        return False\n",
    "    elif not phone [9:12].isdigit():            #檢查 10-12 碼是否為數字\n",
    "        return False\n",
    "    else:\n",
    "        return True\n",
    "\n",
    "phone_str = pyip.inputStr(\"請輸入手機號碼:(xxxx-xxx-xxx):\")\n",
    "\n",
    "if isPhoneNumber(phone_str):\n",
    "    print(phone_str)\n",
    "else:\n",
    "    print(\"格式錯誤\")"
   ]
  },
  {
   "cell_type": "code",
   "execution_count": 13,
   "metadata": {},
   "outputs": [
    {
     "name": "stdout",
     "output_type": "stream",
     "text": [
      "請輸入手機號碼:(xxxx-xxx-xxx):格式錯誤\n"
     ]
    }
   ],
   "source": [
    "import pyinputplus as pyip\n",
    "import re\n",
    "\n",
    "def isPhoneNumber(phone:str) -> bool:\n",
    "    phoneNumRegex = re.compile(r'\\d\\d\\d\\d-\\d\\d\\d-\\d\\d\\d')\n",
    "    match = re.match(phoneNumRegex,phone)\n",
    "    if len(phone) != 12:\n",
    "        return False\n",
    "    elif match is None:\n",
    "        return False\n",
    "    else:\n",
    "        return True\n",
    "\n",
    "          \n",
    "phone_str = pyip.inputStr(\"請輸入手機號碼:(xxxx-xxx-xxx):\")\n",
    "\n",
    "if isPhoneNumber(phone_str):\n",
    "    print(phone_str)\n",
    "else:\n",
    "    print(\"格式錯誤\")"
   ]
  }
 ],
 "metadata": {
  "kernelspec": {
   "display_name": "Python 3",
   "language": "python",
   "name": "python3"
  },
  "language_info": {
   "codemirror_mode": {
    "name": "ipython",
    "version": 3
   },
   "file_extension": ".py",
   "mimetype": "text/x-python",
   "name": "python",
   "nbconvert_exporter": "python",
   "pygments_lexer": "ipython3",
   "version": "3.10.8"
  },
  "orig_nbformat": 4
 },
 "nbformat": 4,
 "nbformat_minor": 2
}
