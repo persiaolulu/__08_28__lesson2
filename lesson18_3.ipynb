{
 "cells": [
  {
   "cell_type": "code",
   "execution_count": null,
   "metadata": {},
   "outputs": [],
   "source": [
    "import numpy as np\n",
    "import pandas as pd\n",
    "\n",
    "data = {'食物':['培根','豬肉','培根','熏牛肉','咸牛肉','培根','熏牛肉','蜂蜜火腿','熏鮭魚'],\n",
    "        '重量':[4, 3, 12, 6, 7.5, 8, 3, 5, 6]}\n",
    "dataFrame = pd.DataFrame(data)\n",
    "dataFrame"
   ]
  },
  {
   "cell_type": "code",
   "execution_count": null,
   "metadata": {},
   "outputs": [],
   "source": [
    "display(dataFrame['食物'])\n",
    "for item in dataFrame['食物']:\n",
    "    print(item)"
   ]
  },
  {
   "cell_type": "code",
   "execution_count": 4,
   "metadata": {},
   "outputs": [],
   "source": [
    "mean_to_animal ={\n",
    "    '培根':'豬',\n",
    "    '豬肉':'豬',\n",
    "    '熏牛肉':'牛',\n",
    "    '咸牛肉':'牛',\n",
    "    '蜂蜜火腿':'豬',\n",
    "    '熏鮭魚':'鮭魚'\n",
    "}"
   ]
  },
  {
   "cell_type": "code",
   "execution_count": null,
   "metadata": {},
   "outputs": [],
   "source": [
    "dataFrame['食物'].map(mean_to_animal)"
   ]
  },
  {
   "cell_type": "code",
   "execution_count": null,
   "metadata": {},
   "outputs": [],
   "source": [
    "dataFrame['動物'] = dataFrame['食物'].map(mean_to_animal)\n",
    "dataFrame"
   ]
  }
 ],
 "metadata": {
  "kernelspec": {
   "display_name": "Python 3",
   "language": "python",
   "name": "python3"
  },
  "language_info": {
   "codemirror_mode": {
    "name": "ipython",
    "version": 3
   },
   "file_extension": ".py",
   "mimetype": "text/x-python",
   "name": "python",
   "nbconvert_exporter": "python",
   "pygments_lexer": "ipython3",
   "version": "3.10.8"
  }
 },
 "nbformat": 4,
 "nbformat_minor": 2
}
