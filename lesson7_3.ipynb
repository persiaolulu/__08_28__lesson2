{
 "cells": [
  {
   "cell_type": "code",
   "execution_count": 23,
   "metadata": {},
   "outputs": [],
   "source": [
    "#自訂的class\n",
    "#建立實體 遙控器會回傳 n c e m 內容如右  Student(n=\"徐真真\",c=分,e=分,m=分)\n",
    "class Student:\n",
    "    def __init__(self,n,c,m,e):   #自訂的初始化(init)\n",
    "        self.name = n\n",
    "        self.chinese = c\n",
    "        self.math = m\n",
    "        self.english = e\n",
    "\n",
    "#stu1~3為生產線作業員\n",
    "#Student()為腳踏車，但前述為pass\n",
    "#which means 沒給你原料\n",
    "\n",
    "stu1 = Student(n=\"徐真真\", c = 78, m = 60, e = 99)\n",
    "\n",
    "stu2 = Student(n=\"張美美\", c = 55, m = 23, e = 84)\n",
    "\n",
    "stu3 = Student(n=\"陳恩恩\", c = 88, m = 66, e = 99)\n"
   ]
  },
  {
   "cell_type": "code",
   "execution_count": null,
   "metadata": {},
   "outputs": [],
   "source": [
    "def student_info(student):\n",
    "    print(\"name:\",student.name)\n",
    "    print(\"chinese:\",student.chinese)\n",
    "    print(\"math:\",student.math)\n",
    "    print(\"english:\",student.english)"
   ]
  },
  {
   "cell_type": "code",
   "execution_count": null,
   "metadata": {},
   "outputs": [],
   "source": [
    "#stu1~3為生產線作業員\n",
    "#Student()為腳踏車，但前述為pass\n",
    "#which means 沒給你原料\n",
    "\n",
    "stu1 = Student(n=\"徐真真\", c = 78, m = 60, e = 99)\n",
    "student_info(stu1)\n",
    "print(\"========================\")\n",
    "\n",
    "stu2 = Student(n=\"張美美\", c = 55, m = 23, e = 84)\n",
    "student_info(stu2)\n",
    "print(\"========================\")\n",
    "\n",
    "stu3 = Student(n=\"陳恩恩\", c = 88, m = 66, e = 99)\n",
    "student_info(stu3)\n",
    "print(\"========================\")"
   ]
  },
  {
   "cell_type": "code",
   "execution_count": null,
   "metadata": {},
   "outputs": [],
   "source": [
    "#在stu1中 動態加入name chi math eng\n",
    "stu1.name = \"徐真真\"\n",
    "stu1.chinese = 78\n",
    "stu1.math = 60\n",
    "stu1.english = 99\n",
    "\n",
    "student_info(stu1)"
   ]
  },
  {
   "cell_type": "code",
   "execution_count": null,
   "metadata": {},
   "outputs": [],
   "source": [
    "#在stu2中 動態加入name chi math eng\n",
    "stu2.name = '張美美'\n",
    "stu2.chinese = 55\n",
    "stu2.math = 23\n",
    "stu2.english = 84\n",
    "student_info(stu2)"
   ]
  },
  {
   "cell_type": "code",
   "execution_count": null,
   "metadata": {},
   "outputs": [],
   "source": [
    "#在stu3中 動態加入name chi math eng\n",
    "stu3.name = '陳恩恩'\n",
    "stu3.chinese = 88\n",
    "stu3.math = 66\n",
    "stu3.english = 99\n",
    "student_info(stu3)"
   ]
  }
 ],
 "metadata": {
  "kernelspec": {
   "display_name": "Python 3",
   "language": "python",
   "name": "python3"
  },
  "language_info": {
   "codemirror_mode": {
    "name": "ipython",
    "version": 3
   },
   "file_extension": ".py",
   "mimetype": "text/x-python",
   "name": "python",
   "nbconvert_exporter": "python",
   "pygments_lexer": "ipython3",
   "version": "3.10.12"
  },
  "orig_nbformat": 4
 },
 "nbformat": 4,
 "nbformat_minor": 2
}
