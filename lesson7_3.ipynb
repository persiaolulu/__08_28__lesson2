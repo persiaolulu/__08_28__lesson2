{
 "cells": [
  {
   "cell_type": "code",
   "execution_count": 38,
   "metadata": {},
   "outputs": [],
   "source": [
    "#自訂的class\n",
    "#建立實體 遙控器會回傳 n c e m 內容如右  Student(n=\"徐真真\",c=分,e=分,m=分)\n",
    "class Student:\n",
    "    def __init__(self,n,c,m,e):   #自訂的初始化(init)\n",
    "        self.name = n\n",
    "        self.chinese = c\n",
    "        self.math = m\n",
    "        self.english = e\n",
    "\n",
    "#實體的方法\n",
    "    def student_info(self):\n",
    "        print(\"name:\",self.name)\n",
    "        print(\"chinese:\",self.chinese)\n",
    "        print(\"math:\",self.math)\n",
    "        print(\"english:\",self.english)\n"
   ]
  },
  {
   "cell_type": "code",
   "execution_count": 39,
   "metadata": {},
   "outputs": [
    {
     "name": "stdout",
     "output_type": "stream",
     "text": [
      "name: 徐真真\n",
      "chinese: 78\n",
      "math: 60\n",
      "english: 99\n",
      "========================\n",
      "name: 張美美\n",
      "chinese: 55\n",
      "math: 23\n",
      "english: 84\n",
      "========================\n",
      "name: 陳恩恩\n",
      "chinese: 88\n",
      "math: 66\n",
      "english: 99\n",
      "========================\n"
     ]
    }
   ],
   "source": [
    "#stu1~3為生產線作業員\n",
    "#Student()為腳踏車，但前述為pass\n",
    "#which means 沒給你原料\n",
    "\n",
    "stu1 = Student(n=\"徐真真\", c = 78, m = 60, e = 99)\n",
    "stu1.student_info()\n",
    "print(\"========================\")\n",
    "\n",
    "stu2 = Student(n=\"張美美\", c = 55, m = 23, e = 84)\n",
    "stu2.student_info()\n",
    "print(\"========================\")\n",
    "\n",
    "stu3 = Student(n=\"陳恩恩\", c = 88, m = 66, e = 99)\n",
    "stu3.student_info()\n",
    "print(\"========================\")"
   ]
  },
  {
   "cell_type": "code",
   "execution_count": null,
   "metadata": {},
   "outputs": [],
   "source": [
    "#在stu1中 動態加入name chi math eng\n",
    "stu1.name = \"徐真真\"\n",
    "stu1.chinese = 78\n",
    "stu1.math = 60\n",
    "stu1.english = 99\n",
    "\n",
    "student_info(stu1)"
   ]
  },
  {
   "cell_type": "code",
   "execution_count": null,
   "metadata": {},
   "outputs": [],
   "source": [
    "#在stu2中 動態加入name chi math eng\n",
    "stu2.name = '張美美'\n",
    "stu2.chinese = 55\n",
    "stu2.math = 23\n",
    "stu2.english = 84\n",
    "student_info(stu2)"
   ]
  },
  {
   "cell_type": "code",
   "execution_count": null,
   "metadata": {},
   "outputs": [],
   "source": [
    "#在stu3中 動態加入name chi math eng\n",
    "stu3.name = '陳恩恩'\n",
    "stu3.chinese = 88\n",
    "stu3.math = 66\n",
    "stu3.english = 99\n",
    "student_info(stu3)"
   ]
  }
 ],
 "metadata": {
  "kernelspec": {
   "display_name": "Python 3",
   "language": "python",
   "name": "python3"
  },
  "language_info": {
   "codemirror_mode": {
    "name": "ipython",
    "version": 3
   },
   "file_extension": ".py",
   "mimetype": "text/x-python",
   "name": "python",
   "nbconvert_exporter": "python",
   "pygments_lexer": "ipython3",
   "version": "3.10.12"
  },
  "orig_nbformat": 4
 },
 "nbformat": 4,
 "nbformat_minor": 2
}
