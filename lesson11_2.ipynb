{
 "cells": [
  {
   "cell_type": "code",
   "execution_count": null,
   "metadata": {},
   "outputs": [],
   "source": [
    "import csv\n",
    "with open(\"學生成績.csv\",encoding=\"utf-8\",newline ='') as file:\n",
    "    dict_reader = csv.DictReader(file)\n",
    "    students = list(dict_reader)\n",
    "\n",
    "students"
   ]
  },
  {
   "cell_type": "code",
   "execution_count": null,
   "metadata": {},
   "outputs": [],
   "source": [
    "# 成績字串轉整數\n",
    "import csv\n",
    "with open(\"學生成績.csv\",encoding=\"utf-8\",newline ='') as file:\n",
    "    dict_reader = csv.DictReader(file)\n",
    "    students = list(dict_reader)\n",
    "    for student in students:\n",
    "        student['國文'] =int(student['國文'])\n",
    "        student['英文'] =int(student['英文'])\n",
    "        student['數學'] =int(student['數學'])\n",
    "        student['地理'] =int(student['地理'])\n",
    "        student['歷史'] =int(student['歷史'])\n",
    "\n",
    "students"
   ]
  },
  {
   "cell_type": "code",
   "execution_count": null,
   "metadata": {},
   "outputs": [],
   "source": [
    "for stu in students:\n",
    "    print(stu['姓名'])\n",
    "    sum = stu['國文'] + stu['英文'] + stu['數學'] + stu['地理'] + stu['歷史']\n",
    "    print(f\"總分:{sum}\")\n",
    "    print(f\"平均:{sum/5:.2f}\")\n",
    "    print(\"==================\")"
   ]
  }
 ],
 "metadata": {
  "kernelspec": {
   "display_name": "Python 3",
   "language": "python",
   "name": "python3"
  },
  "language_info": {
   "codemirror_mode": {
    "name": "ipython",
    "version": 3
   },
   "file_extension": ".py",
   "mimetype": "text/x-python",
   "name": "python",
   "nbconvert_exporter": "python",
   "pygments_lexer": "ipython3",
   "version": "3.10.8"
  },
  "orig_nbformat": 4
 },
 "nbformat": 4,
 "nbformat_minor": 2
}
