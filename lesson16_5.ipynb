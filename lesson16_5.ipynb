{
 "cells": [
  {
   "cell_type": "code",
   "execution_count": null,
   "metadata": {},
   "outputs": [],
   "source": [
    "import csv\n",
    "\n",
    "with open(\"學生成績表1.csv\",mode='r',encoding=\"utf-8\",newline=\"\") as file:\n",
    "    csvReader = csv.reader(file)\n",
    "    #next(csvReader)    \n",
    "    #for row in csvReader:\n",
    "    #    print(row)\n",
    "    students = list(csvReader)\n",
    "students\n",
    "    "
   ]
  },
  {
   "cell_type": "code",
   "execution_count": null,
   "metadata": {},
   "outputs": [],
   "source": [
    "import pandas as pd\n",
    "dataFrame1 = pd.DataFrame(students)\n",
    "dataFrame1.columns = dataFrame1.iloc[0]\n",
    "dataFrame2 = dataFrame1.iloc[1:]\n",
    "dataFrame2"
   ]
  }
 ],
 "metadata": {
  "kernelspec": {
   "display_name": "Python 3",
   "language": "python",
   "name": "python3"
  },
  "language_info": {
   "codemirror_mode": {
    "name": "ipython",
    "version": 3
   },
   "file_extension": ".py",
   "mimetype": "text/x-python",
   "name": "python",
   "nbconvert_exporter": "python",
   "pygments_lexer": "ipython3",
   "version": "3.10.8"
  }
 },
 "nbformat": 4,
 "nbformat_minor": 2
}
